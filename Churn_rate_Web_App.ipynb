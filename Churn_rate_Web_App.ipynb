{
  "nbformat": 4,
  "nbformat_minor": 0,
  "metadata": {
    "colab": {
      "name": "Churn_rate_Web_App.ipynb",
      "provenance": []
    },
    "kernelspec": {
      "name": "python3",
      "display_name": "Python 3"
    },
    "language_info": {
      "name": "python"
    }
  },
  "cells": [
    {
      "cell_type": "markdown",
      "source": [
        "Flask is a web-framework that provides the users with the tools,libraries and tech that allow for building of web applications\n",
        "\n",
        "Flask URL binding: It is used to build a URl to specify functions dynamically. Basic HTTP methods: Post,Get,Delete,Head\n",
        "\n",
        "In this section, We have some code that we will convert to Flask APIs so that using those APIs we can accessthe code through our frontend. This is how our ML code is deployed"
      ],
      "metadata": {
        "id": "wlBB55_wmBoA"
      }
    },
    {
      "cell_type": "code",
      "execution_count": null,
      "metadata": {
        "id": "16DlqfZql5Jr"
      },
      "outputs": [],
      "source": [
        "import pandas as pd\n",
        "from sklearn.model_selection import train_test_split\n",
        "from sklearn.ensemble import RandomForestClassifier \n",
        "from sklearn import metrics\n",
        "from flask import Flask, request, render_template\n",
        "import pickle"
      ]
    },
    {
      "cell_type": "code",
      "source": [
        "app = Flask(\"__churn__\")"
      ],
      "metadata": {
        "id": "ElxU3ruum_hY"
      },
      "execution_count": null,
      "outputs": []
    },
    {
      "cell_type": "code",
      "source": [
        "df_1=pd.read_csv(\"df_dummy.csv\")\n",
        "q = \"\""
      ],
      "metadata": {
        "id": "uLwJpwJlpM2N"
      },
      "execution_count": null,
      "outputs": []
    },
    {
      "cell_type": "code",
      "source": [
        "@app.route(\"/\")\n",
        "def loadPage():\n",
        "\treturn render_template('home.html', query=\"\")\n"
      ],
      "metadata": {
        "id": "5UGRRWYzpdMs"
      },
      "execution_count": null,
      "outputs": []
    },
    {
      "cell_type": "code",
      "source": [
        "@app.route(\"/\", methods=['POST'])\n",
        "def predict():\n",
        "  '''\n",
        "    SeniorCitizen\n",
        "    MonthlyCharges\n",
        "    TotalCharges\n",
        "    gender\n",
        "    Partner\n",
        "    Dependents\n",
        "    PhoneService\n",
        "    MultipleLines\n",
        "    InternetService\n",
        "    OnlineSecurity\n",
        "    OnlineBackup\n",
        "    DeviceProtection\n",
        "    TechSupport\n",
        "    StreamingTV\n",
        "    StreamingMovies\n",
        "    Contract\n",
        "    PaperlessBilling\n",
        "    PaymentMethod\n",
        "    tenure\n",
        "    '''"
      ],
      "metadata": {
        "id": "ijcEk8f0peQJ"
      },
      "execution_count": null,
      "outputs": []
    },
    {
      "cell_type": "code",
      "source": [
        "    inputQuery1 = request.form['query1']\n",
        "    inputQuery2 = request.form['query2']\n",
        "    inputQuery3 = request.form['query3']\n",
        "    inputQuery4 = request.form['query4']\n",
        "    inputQuery5 = request.form['query5']\n",
        "    inputQuery6 = request.form['query6']\n",
        "    inputQuery7 = request.form['query7']\n",
        "    inputQuery8 = request.form['query8']\n",
        "    inputQuery9 = request.form['query9']\n",
        "    inputQuery10 = request.form['query10']\n",
        "    inputQuery11 = request.form['query11']\n",
        "    inputQuery12 = request.form['query12']\n",
        "    inputQuery13 = request.form['query13']\n",
        "    inputQuery14 = request.form['query14']\n",
        "    inputQuery15 = request.form['query15']\n",
        "    inputQuery16 = request.form['query16']\n",
        "    inputQuery17 = request.form['query17']\n",
        "    inputQuery18 = request.form['query18']\n",
        "    inputQuery19 = request.form['query19']"
      ],
      "metadata": {
        "id": "1tH2YolCGqVz"
      },
      "execution_count": null,
      "outputs": []
    },
    {
      "cell_type": "code",
      "source": [
        " model = pickle.load(open(\"final_model (1).sav\", \"rb\"))"
      ],
      "metadata": {
        "id": "76sPjSHfIpHc"
      },
      "execution_count": null,
      "outputs": []
    },
    {
      "cell_type": "code",
      "source": [
        " data = [[inputQuery1, inputQuery2, inputQuery3, inputQuery4, inputQuery5, inputQuery6, inputQuery7, \n",
        "             inputQuery8, inputQuery9, inputQuery10, inputQuery11, inputQuery12, inputQuery13, inputQuery14,\n",
        "             inputQuery15, inputQuery16, inputQuery17, inputQuery18, inputQuery19]]"
      ],
      "metadata": {
        "id": "AqDq_VpTNx6_"
      },
      "execution_count": null,
      "outputs": []
    },
    {
      "cell_type": "code",
      "source": [
        " new_df = pd.DataFrame(data, columns = ['SeniorCitizen', 'MonthlyCharges', 'TotalCharges', 'gender', \n",
        "                                           'Partner', 'Dependents', 'PhoneService', 'MultipleLines', 'InternetService',\n",
        "                                           'OnlineSecurity', 'OnlineBackup', 'DeviceProtection', 'TechSupport',\n",
        "                                           'StreamingTV', 'StreamingMovies', 'Contract', 'PaperlessBilling',\n",
        "                                           'PaymentMethod', 'tenure'])"
      ],
      "metadata": {
        "id": "Lgi7DmC9N0VY"
      },
      "execution_count": null,
      "outputs": []
    },
    {
      "cell_type": "code",
      "source": [
        "df_2 = pd.concat([df_1, new_df], ignore_index = True) \n",
        "    # Group the tenure in bins of 12 months\n",
        "    labels = [\"{0} - {1}\".format(i, i + 11) for i in range(1, 72, 12)]"
      ],
      "metadata": {
        "id": "p8CJ-ytDN4kf"
      },
      "execution_count": null,
      "outputs": []
    },
    {
      "cell_type": "code",
      "source": [
        "df_2['tenure_group'] = pd.cut(df_2.tenure.astype(int), range(1, 80, 12), right=False, labels=labels)\n",
        "    #drop column customerID and tenure\n",
        "    df_2.drop(columns= ['tenure'], axis=1, inplace=True)   \n",
        "    "
      ],
      "metadata": {
        "id": "b5gB7odsN-CO"
      },
      "execution_count": null,
      "outputs": []
    },
    {
      "cell_type": "code",
      "source": [
        " new_df__dummies = pd.get_dummies(df_2[['gender', 'SeniorCitizen', 'Partner', 'Dependents', 'PhoneService',\n",
        "           'MultipleLines', 'InternetService', 'OnlineSecurity', 'OnlineBackup',\n",
        "           'DeviceProtection', 'TechSupport', 'StreamingTV', 'StreamingMovies',\n",
        "           'Contract', 'PaperlessBilling', 'PaymentMethod','tenure_group']])"
      ],
      "metadata": {
        "id": "NAytY2ktOADg"
      },
      "execution_count": null,
      "outputs": []
    },
    {
      "cell_type": "code",
      "source": [
        "  #final_df=pd.concat([new_df__dummies, new_dummy], axis=1)"
      ],
      "metadata": {
        "id": "rvCmHui1OEvF"
      },
      "execution_count": null,
      "outputs": []
    },
    {
      "cell_type": "code",
      "source": [
        " single = model.predict(new_df__dummies.tail(1))\n",
        "    probablity = model.predict_proba(new_df__dummies.tail(1))[:,1]\n",
        "    \n",
        "    if single==1:\n",
        "        o1 = \"This customer is likely to be churned!!\"\n",
        "        o2 = \"Confidence: {}\".format(probablity*100)\n",
        "    else:\n",
        "        o1 = \"This customer is likely to continue!!\"\n",
        "        o2 = \"Confidence: {}\".format(probablity*100)\n",
        "        \n",
        "    return render_template('home.html', output1=o1, output2=o2, \n",
        "                           query1 = request.form['query1'], \n",
        "                           query2 = request.form['query2'],\n",
        "                           query3 = request.form['query3'],\n",
        "                           query4 = request.form['query4'],\n",
        "                           query5 = request.form['query5'], \n",
        "                           query6 = request.form['query6'], \n",
        "                           query7 = request.form['query7'], \n",
        "                           query8 = request.form['query8'], \n",
        "                           query9 = request.form['query9'], \n",
        "                           query10 = request.form['query10'], \n",
        "                           query11 = request.form['query11'], \n",
        "                           query12 = request.form['query12'], \n",
        "                           query13 = request.form['query13'], \n",
        "                           query14 = request.form['query14'], \n",
        "                           query15 = request.form['query15'], \n",
        "                           query16 = request.form['query16'], \n",
        "                           query17 = request.form['query17'],\n",
        "                           query18 = request.form['query18'], \n",
        "                           query19 = request.form['query19'])\n",
        "    \n",
        "app.run()"
      ],
      "metadata": {
        "id": "rMym8xwDOJGD"
      },
      "execution_count": null,
      "outputs": []
    }
  ]
}